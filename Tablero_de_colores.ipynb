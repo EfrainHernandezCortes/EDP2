{
  "nbformat": 4,
  "nbformat_minor": 0,
  "metadata": {
    "colab": {
      "provenance": [],
      "authorship_tag": "ABX9TyNeXag7hQpXdXODK0J+l2pf",
      "include_colab_link": true
    },
    "kernelspec": {
      "name": "python3",
      "display_name": "Python 3"
    },
    "language_info": {
      "name": "python"
    }
  },
  "cells": [
    {
      "cell_type": "markdown",
      "metadata": {
        "id": "view-in-github",
        "colab_type": "text"
      },
      "source": [
        "<a href=\"https://colab.research.google.com/github/EfrainHernandezCortes/EDP2/blob/main/Tablero_de_colores.ipynb\" target=\"_parent\"><img src=\"https://colab.research.google.com/assets/colab-badge.svg\" alt=\"Open In Colab\"/></a>"
      ]
    },
    {
      "cell_type": "markdown",
      "source": [
        "Probabilidades del tablero de colores."
      ],
      "metadata": {
        "id": "v82McaYknGsp"
      }
    },
    {
      "cell_type": "markdown",
      "source": [
        "Se importa la librería necesaria."
      ],
      "metadata": {
        "id": "-2qz7t0Bk9FD"
      }
    },
    {
      "cell_type": "code",
      "execution_count": 10,
      "metadata": {
        "id": "8K6OyIyag8g5"
      },
      "outputs": [],
      "source": [
        "import numpy as np"
      ]
    },
    {
      "cell_type": "markdown",
      "source": [
        "Se define la matriz de transición que se obtuvo."
      ],
      "metadata": {
        "id": "9FXVynSQlDOo"
      }
    },
    {
      "cell_type": "code",
      "source": [
        "A = np.array([\n",
        "    [1/4, 0, 1/4, 1/2],\n",
        "    [1/2, 1/4, 0, 1/4],\n",
        "    [1/4, 1/2, 1/4, 0],\n",
        "    [0, 1/4, 1/2, 1/4],\n",
        "], dtype=float)"
      ],
      "metadata": {
        "id": "mh83PbLQhHv3"
      },
      "execution_count": 16,
      "outputs": []
    },
    {
      "cell_type": "markdown",
      "source": [
        "Se define la función para obtener la potencia n de la matriz."
      ],
      "metadata": {
        "id": "22B5M4UqlX-B"
      }
    },
    {
      "cell_type": "code",
      "source": [
        "def potencia_matriz(A, n):\n",
        "    P = np.eye(A.shape[0])\n",
        "    for _ in range(n):\n",
        "        P = A @ P\n",
        "    return P\n"
      ],
      "metadata": {
        "id": "gqCoaoErlZvr"
      },
      "execution_count": 17,
      "outputs": []
    },
    {
      "cell_type": "markdown",
      "source": [
        "Tomaré n=1000, considerando un esto para cumplir la condición de haber pasado mucho tiempo.\n",
        "Se imprime la matriz inicial elevada a la potencia n."
      ],
      "metadata": {
        "id": "_C87j_HImZ8h"
      }
    },
    {
      "cell_type": "code",
      "source": [
        "n = 1000\n",
        "An = potencia_matriz(A, n)\n",
        "print(np.round(An, 2))"
      ],
      "metadata": {
        "colab": {
          "base_uri": "https://localhost:8080/"
        },
        "id": "4IZ0wDFbmdsR",
        "outputId": "7ac06dac-9a3a-4903-da71-c478f34f36a2"
      },
      "execution_count": 18,
      "outputs": [
        {
          "output_type": "stream",
          "name": "stdout",
          "text": [
            "[[0.25 0.25 0.25 0.25]\n",
            " [0.25 0.25 0.25 0.25]\n",
            " [0.25 0.25 0.25 0.25]\n",
            " [0.25 0.25 0.25 0.25]]\n"
          ]
        }
      ]
    },
    {
      "cell_type": "markdown",
      "source": [
        "Por lo tanto, se puede concluir que pasado mucho tiempo, todos los sectores son igual de probables."
      ],
      "metadata": {
        "id": "Kg7FVJUpm9Dr"
      }
    }
  ]
}